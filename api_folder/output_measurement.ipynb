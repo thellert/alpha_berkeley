{
 "cells": [
  {
   "cell_type": "code",
   "execution_count": 1,
   "id": "561cc5ed",
   "metadata": {
    "execution": {
     "iopub.execute_input": "2025-08-14T20:43:52.793844Z",
     "iopub.status.busy": "2025-08-14T20:43:52.793008Z",
     "iopub.status.idle": "2025-08-14T20:43:52.812612Z",
     "shell.execute_reply": "2025-08-14T20:43:52.810032Z"
    },
    "papermill": {
     "duration": 0.032477,
     "end_time": "2025-08-14T20:43:52.816608",
     "exception": false,
     "start_time": "2025-08-14T20:43:52.784131",
     "status": "completed"
    },
    "tags": [
     "injected-parameters"
    ]
   },
   "outputs": [],
   "source": [
    "# Parameters\n",
    "angle = 0.0\n"
   ]
  },
  {
   "cell_type": "code",
   "execution_count": 2,
   "id": "ea6be6c8",
   "metadata": {
    "execution": {
     "iopub.execute_input": "2025-08-14T20:43:52.830369Z",
     "iopub.status.busy": "2025-08-14T20:43:52.829869Z",
     "iopub.status.idle": "2025-08-14T20:43:54.604337Z",
     "shell.execute_reply": "2025-08-14T20:43:54.603759Z"
    },
    "papermill": {
     "duration": 1.782786,
     "end_time": "2025-08-14T20:43:54.605535",
     "exception": false,
     "start_time": "2025-08-14T20:43:52.822749",
     "status": "completed"
    },
    "tags": []
   },
   "outputs": [],
   "source": [
    "from ophyd import EpicsMotor, EpicsSignal\n",
    "from ophyd.areadetector.plugins import PluginBase\n",
    "from ophyd.areadetector import AreaDetector, ADComponent, ImagePlugin, JPEGPlugin, TIFFPlugin\n",
    "from ophyd.areadetector.cam import AreaDetectorCam\n",
    "from ophyd.areadetector.cam import CamBase\n",
    "from bluesky import RunEngine\n",
    "from bluesky.plans import scan, count\n",
    "import bluesky.plan_stubs as bps\n",
    "import numpy as np\n",
    "from datetime import datetime\n",
    "from pathlib import Path\n",
    "from PIL import Image\n",
    "import time, sys, os, subprocess\n",
    "from collections import defaultdict\n",
    "\n",
    "# Import configuration from external file\n",
    "import config\n",
    "class PvaPlugin(PluginBase):\n",
    "    _suffix = 'Pva1:'\n",
    "    _plugin_type = 'NDPluginPva'\n",
    "    _default_read_attrs = ['enable']\n",
    "    _default_configuration_attrs = ['enable']\n",
    "\n",
    "    array_callbacks = ADComponent(EpicsSignal, 'ArrayCallbacks')\n",
    "\n",
    "# Create RunEngine\n",
    "RE = RunEngine({})\n",
    "\n",
    "# Define the motor using config\n",
    "motor = EpicsMotor(config.MOTOR_PV, name=config.MOTOR_NAME)\n",
    "\n",
    "# Define the camera device\n",
    "class MyCamera(AreaDetector):\n",
    "    cam = ADComponent(AreaDetectorCam, 'cam1:') #Fixed the single camera issue?\n",
    "    image = ADComponent(ImagePlugin, 'image1:')\n",
    "    tiff = ADComponent(TIFFPlugin, 'TIFF1:')\n",
    "    pva = ADComponent(PvaPlugin, 'Pva1:')\n",
    "\n",
    "# Instantiate the camera using config\n",
    "camera = MyCamera(config.CAMERA_PV, name=config.CAMERA_NAME)\n",
    "camera.wait_for_connection()\n",
    "\n",
    "\n",
    "file_path_container = []"
   ]
  },
  {
   "cell_type": "code",
   "execution_count": 3,
   "id": "93cdb122",
   "metadata": {
    "execution": {
     "iopub.execute_input": "2025-08-14T20:43:54.609468Z",
     "iopub.status.busy": "2025-08-14T20:43:54.609254Z",
     "iopub.status.idle": "2025-08-14T20:43:55.177927Z",
     "shell.execute_reply": "2025-08-14T20:43:55.175948Z"
    },
    "papermill": {
     "duration": 0.573796,
     "end_time": "2025-08-14T20:43:55.181103",
     "exception": false,
     "start_time": "2025-08-14T20:43:54.607307",
     "status": "completed"
    },
    "tags": []
   },
   "outputs": [],
   "source": [
    "# Camera configuration using config file settings\n",
    "\n",
    "# CAM OPTIONS\n",
    "camera.stage_sigs[camera.cam.acquire] = config.CAM_CONFIG['acquire']\n",
    "camera.stage_sigs[camera.cam.image_mode] = config.CAM_CONFIG['image_mode'] # single multiple continuous\n",
    "camera.stage_sigs[camera.cam.trigger_mode] = config.CAM_CONFIG['trigger_mode'] # internal external\n",
    "\n",
    "# IMAGE OPTIONS\n",
    "camera.stage_sigs[camera.image.enable] = config.IMAGE_CONFIG['enable'] # pva plugin\n",
    "camera.stage_sigs[camera.image.queue_size] = config.IMAGE_CONFIG['queue_size']\n",
    "\n",
    "# TIFF OPTIONS\n",
    "camera.stage_sigs[camera.tiff.enable] = config.TIFF_CONFIG['enable']\n",
    "camera.stage_sigs[camera.tiff.auto_save] = config.TIFF_CONFIG['auto_save']\n",
    "camera.stage_sigs[camera.tiff.file_write_mode] = config.TIFF_CONFIG['file_write_mode']  # Or 'Single' works too\n",
    "camera.stage_sigs[camera.tiff.nd_array_port] = config.TIFF_CONFIG['nd_array_port']  \n",
    "camera.stage_sigs[camera.tiff.auto_increment] = config.TIFF_CONFIG['auto_increment']       #Doesn't work, must be ignored\n",
    "\n",
    "# PVA OPTIONS\n",
    "camera.stage_sigs[camera.pva.enable] = config.PVA_CONFIG['enable']\n",
    "camera.stage_sigs[camera.pva.blocking_callbacks] = config.PVA_CONFIG['blocking_callbacks']\n",
    "camera.stage_sigs[camera.pva.queue_size] = config.PVA_CONFIG['queue_size']  # or higher\n",
    "camera.stage_sigs[camera.pva.nd_array_port] = config.PVA_CONFIG['nd_array_port'] \n",
    "camera.stage_sigs[camera.pva.array_callbacks] = config.PVA_CONFIG['array_callbacks']  # disable during scan\n"
   ]
  },
  {
   "cell_type": "code",
   "execution_count": 4,
   "id": "b1804191",
   "metadata": {
    "execution": {
     "iopub.execute_input": "2025-08-14T20:43:55.196362Z",
     "iopub.status.busy": "2025-08-14T20:43:55.195737Z",
     "iopub.status.idle": "2025-08-14T20:43:55.205655Z",
     "shell.execute_reply": "2025-08-14T20:43:55.203899Z"
    },
    "papermill": {
     "duration": 0.021974,
     "end_time": "2025-08-14T20:43:55.208684",
     "exception": false,
     "start_time": "2025-08-14T20:43:55.186710",
     "status": "completed"
    },
    "tags": []
   },
   "outputs": [],
   "source": [
    "def wait_for_file(filepath, timeout=config.FILE_WAIT_TIMEOUT, poll_interval=config.POLL_INTERVAL):\n",
    "    \"\"\"Wait until a file appears on disk, or timeout.\"\"\"\n",
    "    start = time.time()\n",
    "    while not os.path.exists(filepath):\n",
    "        if time.time() - start > timeout:\n",
    "            raise TimeoutError(f\"Timed out waiting for file: {filepath}\")\n",
    "        time.sleep(poll_interval)"
   ]
  },
  {
   "cell_type": "code",
   "execution_count": 5,
   "id": "49f18a9a",
   "metadata": {
    "execution": {
     "iopub.execute_input": "2025-08-14T20:43:55.222220Z",
     "iopub.status.busy": "2025-08-14T20:43:55.221777Z",
     "iopub.status.idle": "2025-08-14T20:43:55.238467Z",
     "shell.execute_reply": "2025-08-14T20:43:55.237271Z"
    },
    "papermill": {
     "duration": 0.025056,
     "end_time": "2025-08-14T20:43:55.240495",
     "exception": false,
     "start_time": "2025-08-14T20:43:55.215439",
     "status": "completed"
    },
    "tags": []
   },
   "outputs": [],
   "source": [
    "def acquire(measurement_angle):\n",
    "    \"\"\"Acquire image at specified angle using configuration settings\"\"\"\n",
    "    # Requirements for image capturing\n",
    "    timestamp = datetime.now().strftime('%Y%m%d_%H%M%S')\n",
    "    callbacks_signal = EpicsSignal(config.CALLBACKS_SIGNAL_PV, name='callbacks_signal')\n",
    "    acquire_signal = EpicsSignal(config.ACQUIRE_SIGNAL_PV, name='acquire_signal')\n",
    "\n",
    "    yield from bps.mv(callbacks_signal, 0)\n",
    "    max_retries = config.MAX_RETRIES\n",
    "    yield from bps.open_run()\n",
    "    camera.cam.array_callbacks.put(0, wait=True)\n",
    "\n",
    "    print(\"\\n--- Staging camera ---\")\n",
    "    yield from bps.stage(camera)\n",
    "\n",
    "    current_number = camera.tiff.file_number.get()\n",
    "    \n",
    "    yield from bps.mv(acquire_signal, 0)  # Triggers a single image\n",
    "\n",
    "    # Generate filename using angle parameter\n",
    "    filename = f'scan_{timestamp}_pos_{measurement_angle}_shot'           \n",
    "    current_number += 1\n",
    "    filepath = os.path.join(save_dir, f\"{filename}_{current_number}.tiff\")\n",
    "\n",
    "    yield from bps.mv(camera.tiff.file_name, filename)\n",
    "    yield from bps.mv(camera.tiff.file_number, current_number)\n",
    "\n",
    "    for attempt in range(1, max_retries + 1):\n",
    "        try:\n",
    "            print(f\"[Attempt {attempt}] Capturing → {filepath}\")\n",
    "            yield from bps.mv(acquire_signal, 1)  # Triggers a single image\n",
    "            yield from bps.sleep(1)\n",
    "\n",
    "            # Wait for file to appear\n",
    "            wait_for_file(filepath)\n",
    "\n",
    "            print(f\"✓ Image saved at {filepath}\")\n",
    "            break  # Exit retry loop if successful\n",
    "\n",
    "        except TimeoutError:\n",
    "            print(f\"--Timeout waiting for image at {filepath}\")\n",
    "            if attempt == max_retries:\n",
    "                print(f\"--Failed after {max_retries} attempts\")\n",
    "            else:\n",
    "                print(\"↻ Retrying acquisition...\")\n",
    "                yield from bps.mv(acquire_signal, 0)\n",
    "                yield from bps.sleep(0.5)\n",
    "    \n",
    "    print(\"\\n--- Unstaging camera ---\")\n",
    "    yield from bps.unstage(camera)\n",
    "\n",
    "    yield from bps.mv(motor, 0.0)\n",
    "    yield from bps.close_run()\n",
    "\n",
    "    file_path_container.clear()\n",
    "    file_path_container.append(f\"{filepath}\")\n",
    "\n",
    "    return print(f\"{filepath}\")"
   ]
  },
  {
   "cell_type": "code",
   "execution_count": 6,
   "id": "0912cdf6",
   "metadata": {
    "execution": {
     "iopub.execute_input": "2025-08-14T20:43:55.249051Z",
     "iopub.status.busy": "2025-08-14T20:43:55.248619Z",
     "iopub.status.idle": "2025-08-14T20:43:55.270923Z",
     "shell.execute_reply": "2025-08-14T20:43:55.270160Z"
    },
    "papermill": {
     "duration": 0.028337,
     "end_time": "2025-08-14T20:43:55.272171",
     "exception": false,
     "start_time": "2025-08-14T20:43:55.243834",
     "status": "completed"
    },
    "tags": []
   },
   "outputs": [],
   "source": [
    "import tifffile\n",
    "\n",
    "def convert_image_format(input_image_file: str, output_image_file: str):\n",
    "    arr = tifffile.imread(input_image_file)\n",
    "\n",
    "    im = Image.fromarray(arr)\n",
    "    \n",
    "    im.save(output_image_file, format=\"PNG\")\n",
    "\n",
    "    return output_image_file"
   ]
  },
  {
   "cell_type": "code",
   "execution_count": 7,
   "id": "ac4eff7a",
   "metadata": {
    "execution": {
     "iopub.execute_input": "2025-08-14T20:43:55.276482Z",
     "iopub.status.busy": "2025-08-14T20:43:55.276249Z",
     "iopub.status.idle": "2025-08-14T20:43:58.621687Z",
     "shell.execute_reply": "2025-08-14T20:43:58.621140Z"
    },
    "papermill": {
     "duration": 3.348627,
     "end_time": "2025-08-14T20:43:58.622670",
     "exception": false,
     "start_time": "2025-08-14T20:43:55.274043",
     "status": "completed"
    },
    "tags": []
   },
   "outputs": [
    {
     "name": "stdout",
     "output_type": "stream",
     "text": [
      "Starting script\n",
      "\n",
      "--- Staging camera ---\n"
     ]
    },
    {
     "name": "stdout",
     "output_type": "stream",
     "text": [
      "[Attempt 1] Capturing → /home/user/tmpData/AI_scan/measurements/scan_20250814_134355_pos_0.0_shot_619.tiff\n"
     ]
    },
    {
     "name": "stdout",
     "output_type": "stream",
     "text": [
      "✓ Image saved at /home/user/tmpData/AI_scan/measurements/scan_20250814_134355_pos_0.0_shot_619.tiff\n",
      "\n",
      "--- Unstaging camera ---\n"
     ]
    },
    {
     "name": "stdout",
     "output_type": "stream",
     "text": [
      "/home/user/tmpData/AI_scan/measurements/scan_20250814_134355_pos_0.0_shot_619.tiff\n"
     ]
    }
   ],
   "source": [
    "if __name__ == \"__main__\":\n",
    "    # Run scan\n",
    "    try:\n",
    "        #angle = 42\n",
    "\n",
    "        print(\"Starting script\")\n",
    "        # File configuration\n",
    "        save_dir = '/home/user/tmpData/AI_scan/measurements/'\n",
    "\n",
    "        # Ensure the directory exists\n",
    "        os.makedirs(save_dir, exist_ok=True)\n",
    "        # Then set the path in EPICS\n",
    "\n",
    "        file_path = None\n",
    "\n",
    "        camera.tiff.file_path.put(save_dir)\n",
    "        camera.tiff.file_template.put('%s%s_%d.tiff')\n",
    "\n",
    "        file_saved = RE(acquire(angle))\n",
    "\n",
    "        #print(file_path_container[0])\n",
    "\n",
    "        png_path = file_path_container[0].replace(\".tiff\", \".png\")\n",
    "\n",
    "        image_path = convert_image_format(file_path_container[0], png_path)\n",
    "\n",
    "        crop_box = (800, 800, 1600, 1500)  # (left, upper, right, lower)\n",
    "        with Image.open(png_path) as img:\n",
    "            cropped = img.crop(crop_box)\n",
    "            cropped.save(png_path)  # Overwrite or change name if desired\n",
    "\n",
    "        os.remove(file_path_container[0])\n",
    "\n",
    "\n",
    "    except KeyboardInterrupt:\n",
    "        print(\"\\nScan interrupted by user\")\n",
    "        RE.stop()\n",
    "    except Exception as e:\n",
    "        print(f\"\\nError during scan: {e}\")\n",
    "        #RE.stop()"
   ]
  }
 ],
 "metadata": {
  "kernelspec": {
   "display_name": "bluesky-clean",
   "language": "python",
   "name": "python3"
  },
  "language_info": {
   "codemirror_mode": {
    "name": "ipython",
    "version": 3
   },
   "file_extension": ".py",
   "mimetype": "text/x-python",
   "name": "python",
   "nbconvert_exporter": "python",
   "pygments_lexer": "ipython3",
   "version": "3.11.13"
  },
  "papermill": {
   "default_parameters": {},
   "duration": 7.941367,
   "end_time": "2025-08-14T20:43:59.642996",
   "environment_variables": {},
   "exception": null,
   "input_path": "take_measurement.ipynb",
   "output_path": "output_measurement.ipynb",
   "parameters": {
    "angle": 0.0
   },
   "start_time": "2025-08-14T20:43:51.701629",
   "version": "2.6.0"
  }
 },
 "nbformat": 4,
 "nbformat_minor": 5
}